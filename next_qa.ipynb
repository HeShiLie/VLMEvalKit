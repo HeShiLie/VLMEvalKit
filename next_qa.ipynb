{
 "cells": [
  {
   "cell_type": "code",
   "execution_count": null,
   "id": "760e7455",
   "metadata": {},
   "outputs": [],
   "source": [
    "# 设置工作路径\n",
    "import os\n",
    "os.chdir(\"/workspace/codes/DeepEyes\")\n",
    "# 加载模型\n",
    "from transformers import Qwen2VLForConditionalGeneration, AutoTokenizer, AutoProcessor\n",
    "from qwen_vl_utils import process_vision_info\n",
    "\n",
    "model_path=\"../../model_zoo/qw2vl-2b/\"\n",
    "\n",
    "model = Qwen2VLForConditionalGeneration.from_pretrained(\n",
    "    model_path, torch_dtype=\"auto\", device_map=\"auto\"\n",
    ")\n",
    "processor = AutoProcessor.from_pretrained(model_path)"
   ]
  },
  {
   "cell_type": "code",
   "execution_count": null,
   "id": "a07cd350",
   "metadata": {},
   "outputs": [],
   "source": [
    "# 设置工作路径\n",
    "import os\n",
    "os.chdir(\"/workspace/codes/DeepEyes\")\n",
    "# 加载数据\n",
    "from datasets import load_dataset\n",
    "dataset = load_dataset(\"parquet\", data_files=\"/workspace/Data/videoRL_moveto48/nextqa/train5k.parquet\", split=\"train\")"
   ]
  },
  {
   "cell_type": "code",
   "execution_count": null,
   "id": "d3abe26a",
   "metadata": {},
   "outputs": [],
   "source": [
    "idx = 1103\n",
    "\n",
    "# Preparation for inference\n",
    "messages = dataset[idx]['prompt']\n",
    "print(dataset[0]['extra_info'].keys())\n",
    "print(dataset[0].keys())\n",
    "print(messages)\n",
    "print(len(messages))\n",
    "\n",
    "# 使用绝对路径并添加角色字段\n",
    "messages[1]['content'] = [\n",
    "    {\n",
    "        \"type\": \"text\",\n",
    "        \"text\": messages[1]['content'] + ' choose one from answer',\n",
    "    },\n",
    "    {\n",
    "        \"type\": \"video\",\n",
    "        'video': \"file:///workspace/Data/videoRL_moveto48/nextqa/videos/1155/3696878746.mp4\",\n",
    "        'fps': 1, \n",
    "        # 'max_frames': 40, \n",
    "        'max_pixels': 12544, \n",
    "        'min_frames': 1, \n",
    "        'min_pixels': 3136, \n",
    "        'total_pixels': 262144\n",
    "    }\n",
    "]\n",
    "\n",
    "print(len(messages))"
   ]
  },
  {
   "cell_type": "code",
   "execution_count": null,
   "id": "b7cea461",
   "metadata": {},
   "outputs": [],
   "source": [
    "\n",
    "text = processor.apply_chat_template(\n",
    "    messages, tokenize=False, add_generation_prompt=True\n",
    ")\n",
    "image_inputs, video_inputs = process_vision_info(messages)\n",
    "inputs = processor(\n",
    "    text=[text],\n",
    "    images=image_inputs,\n",
    "    videos=video_inputs,\n",
    "    padding=True,\n",
    "    return_tensors=\"pt\",\n",
    ")\n",
    "inputs = inputs.to(\"cuda\")"
   ]
  },
  {
   "cell_type": "code",
   "execution_count": null,
   "id": "110e1b71",
   "metadata": {},
   "outputs": [],
   "source": [
    "# print(video_inputs)\n",
    "# print(text)"
   ]
  },
  {
   "cell_type": "code",
   "execution_count": null,
   "id": "c3f503e9",
   "metadata": {},
   "outputs": [],
   "source": [
    "# check the answer\n",
    "print(f\"[Question] {dataset[idx]['extra_info']['question']}\")\n",
    "print(f\"[Answer] {dataset[idx]['reward_model']['ground_truth']}\")"
   ]
  },
  {
   "cell_type": "code",
   "execution_count": null,
   "id": "4d85b47e",
   "metadata": {},
   "outputs": [],
   "source": [
    "# Inference: Generation of the output\n",
    "generated_ids = model.generate(**inputs, max_new_tokens=1280)\n",
    "generated_ids_trimmed = [\n",
    "    out_ids[len(in_ids) :] for in_ids, out_ids in zip(inputs.input_ids, generated_ids)\n",
    "]\n",
    "output_text = processor.batch_decode(\n",
    "    generated_ids_trimmed, skip_special_tokens=True, clean_up_tokenization_spaces=False\n",
    ")\n",
    "print(output_text)"
   ]
  },
  {
   "cell_type": "code",
   "execution_count": null,
   "id": "3bd83e4c",
   "metadata": {},
   "outputs": [],
   "source": [
    "# deepeyes\n",
    "# 加载一条数据\n",
    "deepeyes_data = load_dataset(\"parquet\", data_files='../../Data/deepeyes/data_0.1.2_visual_toolbox_v2.parquet', split=\"train\")"
   ]
  },
  {
   "cell_type": "code",
   "execution_count": null,
   "id": "2a411143",
   "metadata": {},
   "outputs": [],
   "source": [
    "from PIL import Image\n",
    "import io\n",
    "\n",
    "idx_deepeyes = 106\n",
    "\n",
    "deepeyes_data[idx_deepeyes]\n",
    "messages = deepeyes_data[idx_deepeyes]['prompt']\n",
    "# print(deepeyes_data[idx_deepeyes]['images'])\n",
    "print(len(messages))\n",
    "messages[1]['content'] = [\n",
    "    {\n",
    "        \"type\": \"text\",\n",
    "        \"text\": messages[1]['content'] + ' a1: left, a2: right. choose one from the 2 answers',\n",
    "    },\n",
    "    {\n",
    "        \"type\": \"image\",\n",
    "        'image': Image.open(io.BytesIO(deepeyes_data[idx_deepeyes]['images'][0]['bytes'])),\n",
    "    }\n",
    "]"
   ]
  },
  {
   "cell_type": "code",
   "execution_count": null,
   "id": "14ca07f3",
   "metadata": {},
   "outputs": [],
   "source": [
    "text = processor.apply_chat_template(\n",
    "    messages, tokenize=False, add_generation_prompt=True\n",
    ")\n",
    "image_inputs, video_inputs = process_vision_info(messages)\n",
    "inputs = processor(\n",
    "    text=[text],\n",
    "    images=image_inputs,\n",
    "    videos=video_inputs,\n",
    "    padding=True,\n",
    "    return_tensors=\"pt\",\n",
    ")\n",
    "inputs = inputs.to(\"cuda\")\n",
    "\n",
    "# Inference: Generation of the output\n",
    "generated_ids = model.generate(**inputs, max_new_tokens=1280)\n",
    "generated_ids_trimmed = [\n",
    "    out_ids[len(in_ids) :] for in_ids, out_ids in zip(inputs.input_ids, generated_ids)\n",
    "]\n",
    "output_text = processor.batch_decode(\n",
    "    generated_ids_trimmed, skip_special_tokens=True, clean_up_tokenization_spaces=False\n",
    ")\n",
    "print(output_text)"
   ]
  },
  {
   "cell_type": "code",
   "execution_count": null,
   "id": "691d4721",
   "metadata": {},
   "outputs": [],
   "source": [
    "# \n",
    "print(f'[Question] {deepeyes_data[idx_deepeyes][\"extra_info\"][\"question\"]}')\n",
    "print(f'[Answer] {deepeyes_data[idx_deepeyes][\"extra_info\"][\"answer\"]}')"
   ]
  },
  {
   "cell_type": "code",
   "execution_count": null,
   "id": "b57c1929",
   "metadata": {},
   "outputs": [],
   "source": [
    "import matplotlib.pyplot as plt\n",
    "import io\n",
    "from PIL import Image\n",
    "\n",
    "# 从二进制数据创建PIL图像\n",
    "image = Image.open(io.BytesIO(deepeyes_data[idx_deepeyes]['images'][0]['bytes']))\n",
    "print(f\"[diverse content]: {messages[1]['content'][0]['text']}\")\n"
   ]
  },
  {
   "cell_type": "code",
   "execution_count": null,
   "id": "82839447",
   "metadata": {},
   "outputs": [],
   "source": [
    "\n",
    "# # 使用matplotlib显示图像\n",
    "# plt.figure(figsize=(10, 10))\n",
    "# plt.imshow(image)\n",
    "# plt.axis('off')  # 关闭坐标轴\n",
    "# plt.title('Image from DeepEyes Dataset')\n",
    "# plt.show()"
   ]
  },
  {
   "cell_type": "code",
   "execution_count": null,
   "id": "d3b2405f",
   "metadata": {},
   "outputs": [],
   "source": [
    "message_eval_template=\n"
   ]
  }
 ],
 "metadata": {
  "kernelspec": {
   "display_name": "Python 3",
   "language": "python",
   "name": "python3"
  },
  "language_info": {
   "codemirror_mode": {
    "name": "ipython",
    "version": 3
   },
   "file_extension": ".py",
   "mimetype": "text/x-python",
   "name": "python",
   "nbconvert_exporter": "python",
   "pygments_lexer": "ipython3",
   "version": "3.10.12"
  }
 },
 "nbformat": 4,
 "nbformat_minor": 5
}
